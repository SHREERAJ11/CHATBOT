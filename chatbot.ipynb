{
  "nbformat": 4,
  "nbformat_minor": 0,
  "metadata": {
    "colab": {
      "provenance": []
    },
    "kernelspec": {
      "name": "python3",
      "display_name": "Python 3"
    },
    "language_info": {
      "name": "python"
    }
  },
  "cells": [
    {
      "cell_type": "code",
      "execution_count": 1,
      "metadata": {
        "colab": {
          "base_uri": "https://localhost:8080/"
        },
        "id": "waARKgEJn8Rf",
        "outputId": "dfb9ace3-a600-48a4-e05c-79a6a9a0cc7d"
      },
      "outputs": [
        {
          "output_type": "stream",
          "name": "stdout",
          "text": [
            "Welcome to the Advanced Chatbot!\n",
            "You can start chatting with me. Type 'bye' to exit.\n",
            "You: hi\n",
            "Chatbot: Hello! How can I assist you?\n",
            "You: how are you\n",
            "Chatbot: I'm doing well, thank you for asking!\n",
            "You: weather\n",
            "Chatbot: Unable to fetch weather information at the moment.\n",
            "You: bye\n",
            "Goodbye! Have a great day!\n"
          ]
        }
      ],
      "source": [
        "import re\n",
        "import requests\n",
        "\n",
        "# Define regular expressions for pattern matching\n",
        "patterns = {\n",
        "    \"greeting\": r\"hello|hi|hey|good morning|good afternoon|good evening\",\n",
        "    \"how_are_you\": r\"how are you|how's it going|how are you doing\",\n",
        "    \"bye\": r\"bye|goodbye\",\n",
        "    \"thank_you\": r\"thank you|thanks\",\n",
        "    \"help\": r\"help\",\n",
        "    \"weather\": r\"weather\",\n",
        "    \"news\": r\"news\",\n",
        "    \"default\": r\".*\"\n",
        "}\n",
        "\n",
        "# Define responses for each pattern\n",
        "responses = {\n",
        "    \"greeting\": \"Hello! How can I assist you?\",\n",
        "    \"how_are_you\": \"I'm doing well, thank you for asking!\",\n",
        "    \"bye\": \"Goodbye! Have a great day!\",\n",
        "    \"thank_you\": \"You're welcome! If you need any further assistance, feel free to ask.\",\n",
        "    \"help\": \"Sure, I'm here to help. What do you need assistance with?\",\n",
        "    \"weather\": \"I'm sorry, I don't have access to weather information at the moment.\",\n",
        "    \"news\": \"I'm sorry, I don't have access to news updates at the moment.\",\n",
        "    \"default\": \"I'm sorry, I didn't understand that. Can you please rephrase your query?\"\n",
        "}\n",
        "\n",
        "# Function to fetch weather information from an external API\n",
        "def get_weather_info():\n",
        "    # Replace this URL with an actual weather API endpoint\n",
        "    weather_api_url = \"https://api.weather.com/...\"\n",
        "    response = requests.get(weather_api_url)\n",
        "    if response.status_code == 200:\n",
        "        data = response.json()\n",
        "        # Parse relevant weather information from the response\n",
        "        weather_info = data[\"weather\"]\n",
        "        return weather_info\n",
        "    else:\n",
        "        return \"Unable to fetch weather information at the moment.\"\n",
        "\n",
        "# Function to fetch news updates from an external API\n",
        "def get_news_updates():\n",
        "    # Replace this URL with an actual news API endpoint\n",
        "    news_api_url = \"https://api.news.com/...\"\n",
        "    response = requests.get(news_api_url)\n",
        "    if response.status_code == 200:\n",
        "        data = response.json()\n",
        "        # Parse relevant news updates from the response\n",
        "        news_updates = data[\"news\"]\n",
        "        return news_updates\n",
        "    else:\n",
        "        return \"Unable to fetch news updates at the moment.\"\n",
        "\n",
        "# Function to generate chatbot response based on user input\n",
        "def generate_response(user_input):\n",
        "    # Convert user input to lowercase for case-insensitive matching\n",
        "    user_input = user_input.lower()\n",
        "\n",
        "    # Iterate through patterns and check for matches\n",
        "    for pattern, regex in patterns.items():\n",
        "        if re.search(regex, user_input):\n",
        "            if pattern == \"weather\":\n",
        "                return get_weather_info()\n",
        "            elif pattern == \"news\":\n",
        "                return get_news_updates()\n",
        "            else:\n",
        "                return responses[pattern]\n",
        "\n",
        "# Main chat loop\n",
        "def main():\n",
        "    print(\"Welcome to the Advanced Chatbot!\")\n",
        "    print(\"You can start chatting with me. Type 'bye' to exit.\")\n",
        "\n",
        "    while True:\n",
        "        user_input = input(\"You: \")\n",
        "        if re.search(patterns[\"bye\"], user_input.lower()):\n",
        "            print(generate_response(user_input))\n",
        "            break\n",
        "        else:\n",
        "            print(\"Chatbot:\", generate_response(user_input))\n",
        "\n",
        "# Start the chatbot\n",
        "if __name__ == \"__main__\":\n",
        "    main()\n"
      ]
    },
    {
      "cell_type": "code",
      "source": [],
      "metadata": {
        "id": "z9rJ-XEDn_nj"
      },
      "execution_count": null,
      "outputs": []
    }
  ]
}